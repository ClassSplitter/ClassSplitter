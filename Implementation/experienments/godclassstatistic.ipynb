{
 "cells": [
  {
   "cell_type": "code",
   "execution_count": 1,
   "metadata": {},
   "outputs": [],
   "source": [
    "num_of_developers = [4, 25, 25, 25, 25, 25, 25, 25, 25, 41, 26, 26, 9, 277, 277, 277, 1, 1262, 1262, 1262, 1262, 4, 85, 50, 245, 245, 245, 330, 330, 330, 330, 330, 330, 330, 379, 1062, 1062, 344, 59, 59, 2, 2, 529, 1480, 388, 517, 517, 25, 25, 25, 25, 25, 25, 25, 25, 33, 74, 26, 26, 26, 26, 26, 26, 26, 16, 10, 10, 10, 28, 3, 3, 3, 33, 18, 18, 18, 10, 84, 84, 151, 151, 2, 2, 2, 61, 61, 20, 1, 20, 20, 20, 20, 20, 20, 20, 94, 94, 94, 35, 176, 157, 517, 517, 50, 4, 4, 24, 3, 2, 185, 435, 435, 435, 435, 435, 1, 161, 161, 161, 161, 170, 170, 170, 170, 170, 170, 170, 170, 170, 170, 170, 170, 170, 170, 170, 170, 170, 170, 170, 170, 170, 3, 14, 61, 18, 18, 18, 18, 18, 18, 18, 18, 18, 18, 18, 18, 18, 18, 18, 18, 18, 18, 51, 4, 4, 7, 7, 1, 347, 18, 5, 5, 5, 2, 17, 17]\n",
    "\n",
    "num_of_commits = [282, 2178, 2178, 2178, 2178, 2178, 2178, 2178, 2178, 7965, 871, 871, 92, 5139, 5139, 5139, 559, 31421, 31421, 31421, 31421, 73, 2762, 5748, 7797, 7797, 7797, 8368, 8368, 8368, 8368, 8368, 8368, 8368, 11102, 34186, 34186, 4572, 4365, 4365, 281, 281, 11411, 30441, 17488, 17777, 17777, 2178, 2178, 2178, 2178, 2178, 2178, 2178, 2178, 684, 1152, 6548, 6548, 6548, 6548, 6548, 6548, 6548, 1203, 458, 458, 458, 276, 413, 413, 413, 1668, 4132, 4132, 4132, 639, 3987, 3987, 6567, 6567, 146, 146, 146, 970, 970, 355, 61, 471, 471, 471, 471, 471, 471, 471, 10564, 10564, 10564, 464, 8270, 1796, 17777, 17777, 1283, 55, 619, 544, 21, 78, 2641, 7558, 7558, 7558, 7558, 7558, 15, 3111, 3111, 3111, 3111, 13156, 13156, 13156, 13156, 13156, 13156, 13156, 13156, 13156, 13156, 13156, 13156, 13156, 13156, 13156, 13156, 13156, 13156, 13156, 13156, 13156, 44, 1400, 960, 3954, 3954, 3954, 3954, 3954, 3954, 3954, 3954, 3954, 3954, 3954, 3954, 3954, 3954, 3954, 3954, 3954, 3954, 632, 657, 657, 503, 503, 5, 18795, 1371, 1310, 1310, 1310, 391, 2294, 2294]\n",
    "\n",
    "year_of_histories = [0.9363449691991786, 1.6618754277891854, 1.6618754277891854, 1.6618754277891854, 1.6618754277891854, 1.6618754277891854, 1.6618754277891854, 1.6618754277891854, 1.6618754277891854, 1.4510609171800137, 4.101300479123887, 4.101300479123887, 0.5174537987679672, 1.6290212183436004, 1.6290212183436004, 1.6290212183436004, 3.682409308692676, 4.97741273100616, 4.97741273100616, 4.97741273100616, 4.97741273100616, 0.23545516769336072, 4.2354551676933605, 8.227241615331964, 9.880903490759753, 9.880903490759753, 9.880903490759753, 6.677618069815195, 6.677618069815195, 6.677618069815195, 6.677618069815195, 6.677618069815195, 6.677618069815195, 6.677618069815195, 3.802874743326489, 5.880903490759754, 5.880903490759754, 7.794661190965092, 12.88432580424367, 12.88432580424367, 0.4736481861738535, 0.4736481861738535, 9.1088295687885, 8.933607118412047, 6.4284736481861735, 14.283367556468173, 14.283367556468173, 1.6618754277891854, 1.6618754277891854, 1.6618754277891854, 1.6618754277891854, 1.6618754277891854, 1.6618754277891854, 1.6618754277891854, 1.6618754277891854, 0.9664613278576317, 1.9767282683093772, 11.457905544147843, 11.457905544147843, 11.457905544147843, 11.457905544147843, 11.457905544147843, 11.457905544147843, 11.457905544147843, 6.288843258042436, 0.9555099247091033, 0.9555099247091033, 0.9555099247091033, 2.433949349760438, 1.0841889117043122, 1.0841889117043122, 1.0841889117043122, 1.949349760438056, 2.625598904859685, 2.625598904859685, 2.625598904859685, 0.6899383983572895, 2.3983572895277208, 2.3983572895277208, 4.224503764544832, 4.224503764544832, 0.2272416153319644, 0.2272416153319644, 0.2272416153319644, 6.247775496235455, 6.247775496235455, 1.8836413415468858, 0.057494866529774126, 0.731006160164271, 0.731006160164271, 0.731006160164271, 0.731006160164271, 0.731006160164271, 0.731006160164271, 0.731006160164271, 2.0698151950718686, 2.0698151950718686, 2.0698151950718686, 2.127310061601643, 4.906228610540725, 8.309377138945928, 14.283367556468173, 14.283367556468173, 0.6242299794661191, 0.12046543463381246, 2.5845311430527036, 0.6872005475701575, 0.5338809034907598, 0.05201916495550993, 1.6974674880219027, 7.19233401779603, 7.19233401779603, 7.19233401779603, 7.19233401779603, 7.19233401779603, 3.02258726899384, 3.756331279945243, 3.756331279945243, 3.756331279945243, 3.756331279945243, 13.735797399041752, 13.735797399041752, 13.735797399041752, 13.735797399041752, 13.735797399041752, 13.735797399041752, 13.735797399041752, 13.735797399041752, 13.735797399041752, 13.735797399041752, 13.735797399041752, 13.735797399041752, 13.735797399041752, 13.735797399041752, 13.735797399041752, 13.735797399041752, 13.735797399041752, 13.735797399041752, 13.735797399041752, 13.735797399041752, 13.735797399041752, 0.4791238877481177, 5.776865160848733, 6.781656399726215, 3.134839151266256, 3.134839151266256, 3.134839151266256, 3.134839151266256, 3.134839151266256, 3.134839151266256, 3.134839151266256, 3.134839151266256, 3.134839151266256, 3.134839151266256, 3.134839151266256, 3.134839151266256, 3.134839151266256, 3.134839151266256, 3.134839151266256, 3.134839151266256, 3.134839151266256, 3.134839151266256, 5.054072553045859, 4.369609856262834, 4.369609856262834, 0.9363449691991786, 0.9363449691991786, 0.0054757015742642025, 5.503080082135524, 4.177960301163586, 1.2210814510609171, 1.2210814510609171, 1.2210814510609171, 0.09034907597535935, 5.809719370294319, 5.809719370294319]"
   ]
  },
  {
   "cell_type": "code",
   "execution_count": 2,
   "metadata": {},
   "outputs": [
    {
     "name": "stdout",
     "output_type": "stream",
     "text": [
      "total class number: 187\n"
     ]
    }
   ],
   "source": [
    "import matplotlib.pyplot as plt\n",
    "from tqdm import tqdm\n",
    "import pandas as pd\n",
    "import show_result as sr\n",
    "from cluster import Cluster, ClusterSeparate\n",
    "from god_class import GodClass, DictHandler\n",
    "\n",
    "dict_handler_p = DictHandler('position_data.csv')\n",
    "good_classes_p = dict_handler_p.get_classes()\n",
    "\n",
    "dict_handler = DictHandler('GodClassRefactorDictionary.csv')\n",
    "good_classes = dict_handler.get_classes()\n",
    "\n",
    "good_classes_all = good_classes + good_classes_p\n",
    "\n",
    "print(f\"total class number: {len(good_classes_all)}\")\n",
    "\n",
    "all_mpnet_base_v2_model_name = 'sentence-transformers/all-mpnet-base-v2'\n",
    "cache_path1 = 'cache_240304.json'\n",
    "cache_path0 = 'cache_time_all-mpnet-base-v2.json'"
   ]
  },
  {
   "cell_type": "code",
   "execution_count": 4,
   "metadata": {},
   "outputs": [
    {
     "name": "stderr",
     "output_type": "stream",
     "text": [
      "  0%|          | 0/187 [00:00<?, ?it/s]"
     ]
    },
    {
     "name": "stderr",
     "output_type": "stream",
     "text": [
      "100%|██████████| 187/187 [02:07<00:00,  1.46it/s]"
     ]
    },
    {
     "name": "stdout",
     "output_type": "stream",
     "text": [
      "LOCs: 64 to 4869, average: 621.5828877005348, median: 470.0\n",
      "number of entities: 20 to 270, average: 50.35294117647059, median: 43.0\n"
     ]
    },
    {
     "name": "stderr",
     "output_type": "stream",
     "text": [
      "\n"
     ]
    }
   ],
   "source": [
    "import numpy as np\n",
    "\n",
    "\n",
    "locs = []\n",
    "mf_num = []\n",
    "\n",
    "for c in tqdm(good_classes_all):\n",
    "    cluster = ClusterSeparate(c, model_name=all_mpnet_base_v2_model_name, cache_path=cache_path0)\n",
    "    mf_num.append(len(cluster.members))\n",
    "    loc = 0\n",
    "    for mem in cluster.members:\n",
    "        loc += mem.get_lines()\n",
    "    locs.append(loc)\n",
    "\n",
    "print(f\"LOCs: {min(locs)} to {max(locs)}, average: {sum(locs) / len(locs)}, median: {np.median(locs)}\")\n",
    "print(f\"number of entities: {min(mf_num)} to {max(mf_num)}, average: {sum(mf_num) / len(mf_num)}, median: {np.median(mf_num)}\")"
   ]
  },
  {
   "cell_type": "code",
   "execution_count": 4,
   "metadata": {},
   "outputs": [
    {
     "name": "stderr",
     "output_type": "stream",
     "text": [
      "100%|██████████| 133/133 [01:35<00:00,  1.40it/s]"
     ]
    },
    {
     "name": "stdout",
     "output_type": "stream",
     "text": [
      "[666, 300, 1378, 4278, 406, 276, 351, 820, 210, 435, 903, 231, 2278, 378, 210, 325, 300, 253, 210, 300, 300, 300, 6328, 496, 253, 378, 406, 210, 190, 1326, 351, 325, 1035, 300, 561, 528, 1378, 276, 561, 300, 595, 231, 496, 276, 741, 190, 561, 406, 990, 4950, 780, 300, 190, 300, 231, 3741, 496, 595, 2211, 276, 561, 990, 2775, 276, 300, 11175, 1653, 1128, 990, 561, 276, 276, 666, 946, 253, 190, 1596, 496, 351, 325, 210, 990, 210, 231, 378, 1275, 741, 465, 325, 4186, 630, 325, 1326, 528, 435, 465, 666, 276, 946, 630, 210, 378, 1485, 435, 300, 946, 325, 190, 1431, 2415, 435, 780, 231, 276, 300, 435, 378, 190, 190, 210, 496, 253, 595, 406, 1081, 190, 276, 1770, 1711, 231, 276, 300, 378]\n"
     ]
    },
    {
     "name": "stderr",
     "output_type": "stream",
     "text": [
      "\n"
     ]
    }
   ],
   "source": [
    "LCOMs_origin = []\n",
    "for c in tqdm(good_classes):\n",
    "    cluster = ClusterSeparate(c, model_name=all_mpnet_base_v2_model_name, cache_path=cache_path0)\n",
    "    LCOMs_origin += cluster.get_LCOMs()\n",
    "\n",
    "print(LCOMs_origin)"
   ]
  },
  {
   "cell_type": "code",
   "execution_count": 2,
   "metadata": {},
   "outputs": [],
   "source": [
    "LCOMs_origin = [666, 300, 1378, 4278, 406, 276, 351, 820, 210, 435, 903, 231, 2278, 378, 210, 325, 300, 253, 210, 300, 300, 300, 6328, 496, 253, 378, 406, 210, 190, 1326, 351, 325, 1035, 300, 561, 528, 1378, 276, 561, 300, 595, 231, 496, 276, 741, 190, 561, 406, 990, 4950, 780, 300, 190, 300, 231, 3741, 496, 595, 2211, 276, 561, 990, 2775, 276, 300, 11175, 1653, 1128, 990, 561, 276, 276, 666, 946, 253, 190, 1596, 496, 351, 325, 210, 990, 210, 231, 378, 1275, 741, 465, 325, 4186, 630, 325, 1326, 528, 435, 465, 666, 276, 946, 630, 210, 378, 1485, 435, 300, 946, 325, 190, 1431, 2415, 435, 780, 231, 276, 300, 435, 378, 190, 190, 210, 496, 253, 595, 406, 1081, 190, 276, 1770, 1711, 231, 276, 300, 378]"
   ]
  },
  {
   "cell_type": "code",
   "execution_count": 5,
   "metadata": {},
   "outputs": [
    {
     "name": "stderr",
     "output_type": "stream",
     "text": [
      "100%|██████████| 133/133 [02:34<00:00,  1.16s/it]"
     ]
    },
    {
     "name": "stdout",
     "output_type": "stream",
     "text": [
      "[[378, 36], [28, 136], [91, 55, 28, 190], [136, 1176, 36, 36, 36], [55, 153], [45, 91], [55, 120], [253, 153], [36, 66], [45, 66, 28], [105, 210, 21], [66, 45], [190, 190, 36, 171], [153, 45], [45, 55], [15, 153, 1], [36, 120], [120, 21], [66, 36], [171, 15], [36, 120], [91, 55], [561, 210, 435, 120, 66], [78, 120, 3], [55, 66], [171, 36], [55, 21, 55], [15, 36, 15], [78, 21], [120, 153, 10, 78], [28, 171], [105, 55], [153, 78, 105], [55, 91], [300, 36], [190, 78], [465, 21, 105], [55, 21, 15], [28, 36, 136], [105, 45], [55, 276], [55, 55], [210, 55], [21, 66, 10], [171, 66, 28], [15, 91], [78, 78, 28], [105, 91], [171, 325], [10, 435, 36, 91, 276, 153], [21, 210, 21, 10], [66, 78], [0, 105, 6], [78, 66], [66, 45], [0, 496, 15, 351, 210], [190, 66], [55, 105, 36], [55, 666, 45, 36], [91, 45], [210, 78], [325, 55, 28], [45, 120, 861, 21], [28, 45, 15], [66, 78], [120, 2211, 2211], [210, 55, 325], [231, 153, 28], [120, 66, 136], [171, 105], [105, 36], [120, 28], [55, 120, 45], [91, 91, 15, 45], [55, 66], [36, 55], [253, 351, 21], [28, 276], [45, 136], [66, 91], [55, 45], [6, 465, 45], [15, 105], [78, 36], [28, 190], [1, 91, 351, 28], [120, 36, 91], [45, 210], [36, 136], [21, 820, 171, 300], [351, 36], [36, 45, 21], [231, 435], [300, 28], [136, 78], [136, 91], [15, 465], [36, 105], [171, 66, 78], [21, 190, 36], [91, 21], [120, 66], [210, 210, 78], [78, 55, 15], [28, 136], [105, 45, 171], [136, 36], [15, 91], [630, 153], [231, 136, 465], [231, 28], [91, 78, 78], [91, 28], [6, 36, 55], [153, 21], [21, 120, 21], [105, 15, 21], [45, 45], [45, 45], [45, 55], [105, 136], [21, 120], [55, 105, 36], [10, 91, 45], [15, 190, 210], [28, 66], [55, 78], [105, 231, 10, 153], [36, 21, 78, 45, 10, 105], [66, 10, 10], [136, 21], [66, 78], [78, 105]]\n"
     ]
    },
    {
     "name": "stderr",
     "output_type": "stream",
     "text": [
      "\n"
     ]
    }
   ],
   "source": [
    "LCOMs_after = []\n",
    "for c in tqdm(good_classes):\n",
    "    cluster_separate = ClusterSeparate(c, model_name=all_mpnet_base_v2_model_name, cache_path=cache_path0)\n",
    "    cluster_separate.use_similarity['MS'] = 0\n",
    "    cluster_separate.separate_to_group()\n",
    "    cluster_separate.split_group_by_position()\n",
    "    cluster_separate.merge_adjacent_single_method()\n",
    "    cluster_separate.merge_separate_group()\n",
    "    cluster_separate.handle_fields()\n",
    "    LCOMs_after.append(cluster_separate.get_group_LCOMs())\n",
    "\n",
    "print(LCOMs_after)"
   ]
  },
  {
   "cell_type": "code",
   "execution_count": 20,
   "metadata": {},
   "outputs": [
    {
     "name": "stdout",
     "output_type": "stream",
     "text": [
      "average LCOM before refactoring: 822.4887218045113\n",
      "average LCOM after refactoring: 121.76676384839651\n"
     ]
    }
   ],
   "source": [
    "print(f\"average LCOM before refactoring: {sum(LCOMs_origin) / len(LCOMs_origin)}\")\n",
    "print(f\"average LCOM after refactoring: {sum([sum(new_LCOMs) for new_LCOMs in LCOMs_after]) / sum([len(new_LCOMs) for new_LCOMs in LCOMs_after])}\")"
   ]
  },
  {
   "cell_type": "code",
   "execution_count": null,
   "metadata": {},
   "outputs": [],
   "source": [
    "LCOMs_after = [[378, 36], [28, 136], [91, 55, 28, 190], [136, 1176, 36, 36, 36], [55, 153], [45, 91], [55, 120], [253, 153], [36, 66], [45, 66, 28], [105, 210, 21], [66, 45], [190, 190, 36, 171], [153, 45], [45, 55], [15, 153, 1], [36, 120], [120, 21], [66, 36], [171, 15], [36, 120], [91, 55], [561, 210, 435, 120, 66], [78, 120, 3], [55, 66], [171, 36], [55, 21, 55], [15, 36, 15], [78, 21], [120, 153, 10, 78], [28, 171], [105, 55], [153, 78, 105], [55, 91], [300, 36], [190, 78], [465, 21, 105], [55, 21, 15], [28, 36, 136], [105, 45], [55, 276], [55, 55], [210, 55], [21, 66, 10], [171, 66, 28], [15, 91], [78, 78, 28], [105, 91], [171, 325], [10, 435, 36, 91, 276, 153], [21, 210, 21, 10], [66, 78], [0, 105, 6], [78, 66], [66, 45], [0, 496, 15, 351, 210], [190, 66], [55, 105, 36], [55, 666, 45, 36], [91, 45], [210, 78], [325, 55, 28], [45, 120, 861, 21], [28, 45, 15], [66, 78], [120, 2211, 2211], [210, 55, 325], [231, 153, 28], [120, 66, 136], [171, 105], [105, 36], [120, 28], [55, 120, 45], [91, 91, 15, 45], [55, 66], [36, 55], [253, 351, 21], [28, 276], [45, 136], [66, 91], [55, 45], [6, 465, 45], [15, 105], [78, 36], [28, 190], [1, 91, 351, 28], [120, 36, 91], [45, 210], [36, 136], [21, 820, 171, 300], [351, 36], [36, 45, 21], [231, 435], [300, 28], [136, 78], [136, 91], [15, 465], [36, 105], [171, 66, 78], [21, 190, 36], [91, 21], [120, 66], [210, 210, 78], [78, 55, 15], [28, 136], [105, 45, 171], [136, 36], [15, 91], [630, 153], [231, 136, 465], [231, 28], [91, 78, 78], [91, 28], [6, 36, 55], [153, 21], [21, 120, 21], [105, 15, 21], [45, 45], [45, 45], [45, 55], [105, 136], [21, 120], [55, 105, 36], [10, 91, 45], [15, 190, 210], [28, 66], [55, 78], [105, 231, 10, 153], [36, 21, 78, 45, 10, 105], [66, 10, 10], [136, 21], [66, 78], [78, 105]]\n",
    "\n"
   ]
  },
  {
   "cell_type": "code",
   "execution_count": 7,
   "metadata": {},
   "outputs": [
    {
     "name": "stderr",
     "output_type": "stream",
     "text": [
      "100%|██████████| 133/133 [02:35<00:00,  1.17s/it]"
     ]
    },
    {
     "name": "stdout",
     "output_type": "stream",
     "text": [
      "[561, 5, 53, 1984, 30, 0, 50, 44, 43, 0, 1186, 105, 432, 76, 341, 760, 653, 246, 62, 89, 100, 5, 120, 63, 32, 170, 184, 114, 176, 172, 386, 761, 404, 6, 263, 198, 459, 100, 86, 56, 42, 3, 12, 14, 51, 308, 177, 37, 1520, 669, 441, 88, 275, 45, 77, 772, 626, 3, 107, 113, 140, 562, 67, 546, 120, 415, 409, 375, 230, 426, 8, 6, 671, 465, 42, 123, 274, 107, 73, 18, 95, 231, 236, 66, 66, 532, 406, 204, 172, 557, 86, 43, 173, 115, 141, 553, 253, 304, 446, 71, 75, 209, 883, 275, 154, 805, 47, 209, 624, 571, 237, 270, 56, 120, 135, 220, 163, 12, 1119, 209, 50, 31, 151, 186, 15, 145, 137, 139, 132, 22, 64, 140, 32]\n",
      "[565, 5, 53, 2074, 30, 0, 57, 44, 46, 0, 1274, 115, 432, 76, 347, 776, 653, 290, 68, 89, 103, 15, 310, 98, 53, 195, 222, 118, 176, 227, 386, 781, 430, 14, 275, 204, 492, 155, 110, 56, 56, 3, 14, 14, 51, 311, 177, 37, 1833, 777, 477, 104, 305, 53, 119, 874, 706, 29, 189, 123, 172, 574, 109, 580, 122, 415, 417, 377, 246, 450, 14, 14, 855, 1067, 76, 129, 289, 115, 75, 18, 109, 261, 246, 69, 66, 558, 408, 204, 182, 611, 86, 62, 179, 179, 233, 618, 283, 316, 486, 129, 75, 224, 920, 279, 154, 921, 51, 209, 626, 683, 237, 281, 56, 170, 135, 221, 164, 12, 1140, 227, 66, 33, 219, 221, 55, 163, 137, 155, 258, 57, 70, 248, 32]\n"
     ]
    },
    {
     "name": "stderr",
     "output_type": "stream",
     "text": [
      "\n"
     ]
    }
   ],
   "source": [
    "mpc_before = []\n",
    "mpc_after = []\n",
    "for c in tqdm(good_classes):\n",
    "    cluster_separate = ClusterSeparate(c, model_name=all_mpnet_base_v2_model_name, cache_path=cache_path0)\n",
    "    cluster_separate.use_similarity['MS'] = 0\n",
    "    cluster_separate.separate_to_group()\n",
    "    cluster_separate.split_group_by_position()\n",
    "    cluster_separate.merge_adjacent_single_method()\n",
    "    cluster_separate.merge_separate_group()\n",
    "    cluster_separate.handle_fields()\n",
    "    mpcs = cluster_separate.get_MPC()\n",
    "    mpc_before.append(mpcs[0])\n",
    "    mpc_after.append(sum(mpcs))\n",
    "\n",
    "print(mpc_before)\n",
    "print(mpc_after)"
   ]
  },
  {
   "cell_type": "code",
   "execution_count": 6,
   "metadata": {},
   "outputs": [],
   "source": [
    "mpc_before = [561, 5, 53, 1984, 30, 0, 50, 44, 43, 0, 1186, 105, 432, 76, 341, 760, 653, 246, 62, 89, 100, 5, 120, 63, 32, 170, 184, 114, 176, 172, 386, 761, 404, 6, 263, 198, 459, 100, 86, 56, 42, 3, 12, 14, 51, 308, 177, 37, 1520, 669, 441, 88, 275, 45, 77, 772, 626, 3, 107, 113, 140, 562, 67, 546, 120, 415, 409, 375, 230, 426, 8, 6, 671, 465, 42, 123, 274, 107, 73, 18, 95, 231, 236, 66, 66, 532, 406, 204, 172, 557, 86, 43, 173, 115, 141, 553, 253, 304, 446, 71, 75, 209, 883, 275, 154, 805, 47, 209, 624, 571, 237, 270, 56, 120, 135, 220, 163, 12, 1119, 209, 50, 31, 151, 186, 15, 145, 137, 139, 132, 22, 64, 140, 32]\n",
    "mpc_after = [565, 5, 53, 2074, 30, 0, 57, 44, 46, 0, 1274, 115, 432, 76, 347, 776, 653, 290, 68, 89, 103, 15, 310, 98, 53, 195, 222, 118, 176, 227, 386, 781, 430, 14, 275, 204, 492, 155, 110, 56, 56, 3, 14, 14, 51, 311, 177, 37, 1833, 777, 477, 104, 305, 53, 119, 874, 706, 29, 189, 123, 172, 574, 109, 580, 122, 415, 417, 377, 246, 450, 14, 14, 855, 1067, 76, 129, 289, 115, 75, 18, 109, 261, 246, 69, 66, 558, 408, 204, 182, 611, 86, 62, 179, 179, 233, 618, 283, 316, 486, 129, 75, 224, 920, 279, 154, 921, 51, 209, 626, 683, 237, 281, 56, 170, 135, 221, 164, 12, 1140, 227, 66, 33, 219, 221, 55, 163, 137, 155, 258, 57, 70, 248, 32]\n"
   ]
  },
  {
   "cell_type": "code",
   "execution_count": 8,
   "metadata": {},
   "outputs": [
    {
     "name": "stdout",
     "output_type": "stream",
     "text": [
      "[0.0071301247771836, 0.0, 0.0, 0.04536290322580645, 0.0, 0, 0.14, 0.0, 0.06976744186046512, 0, 0.07419898819561552, 0.09523809523809523, 0.0, 0.0, 0.017595307917888565, 0.021052631578947368, 0.0, 0.17886178861788618, 0.0967741935483871, 0.0, 0.03, 2.0, 1.5833333333333333, 0.5555555555555556, 0.65625, 0.14705882352941177, 0.20652173913043478, 0.03508771929824561, 0.0, 0.31976744186046513, 0.0, 0.026281208935611037, 0.06435643564356436, 1.3333333333333333, 0.045627376425855515, 0.030303030303030304, 0.0718954248366013, 0.55, 0.27906976744186046, 0.0, 0.3333333333333333, 0.0, 0.16666666666666666, 0.0, 0.0, 0.00974025974025974, 0.0, 0.0, 0.20592105263157895, 0.16143497757847533, 0.08163265306122448, 0.18181818181818182, 0.10909090909090909, 0.17777777777777778, 0.5454545454545454, 0.13212435233160622, 0.12779552715654952, 8.666666666666666, 0.7663551401869159, 0.08849557522123894, 0.22857142857142856, 0.021352313167259787, 0.6268656716417911, 0.06227106227106227, 0.016666666666666666, 0.0, 0.019559902200488997, 0.005333333333333333, 0.06956521739130435, 0.056338028169014086, 0.75, 1.3333333333333333, 0.27421758569299554, 1.2946236559139785, 0.8095238095238095, 0.04878048780487805, 0.05474452554744526, 0.07476635514018691, 0.0273972602739726, 0.0, 0.14736842105263157, 0.12987012987012986, 0.0423728813559322, 0.045454545454545456, 0.0, 0.04887218045112782, 0.0049261083743842365, 0.0, 0.05813953488372093, 0.09694793536804308, 0.0, 0.4418604651162791, 0.03468208092485549, 0.5565217391304348, 0.6524822695035462, 0.11754068716094032, 0.11857707509881422, 0.039473684210526314, 0.08968609865470852, 0.8169014084507042, 0.0, 0.07177033492822966, 0.04190260475651189, 0.014545454545454545, 0.0, 0.14409937888198757, 0.0851063829787234, 0.0, 0.003205128205128205, 0.19614711033274956, 0.0, 0.040740740740740744, 0.0, 0.4166666666666667, 0.0, 0.004545454545454545, 0.006134969325153374, 0.0, 0.01876675603217158, 0.0861244019138756, 0.32, 0.06451612903225806, 0.4503311258278146, 0.1881720430107527, 2.6666666666666665, 0.12413793103448276, 0.0, 0.11510791366906475, 0.9545454545454546, 1.5909090909090908, 0.09375, 0.7714285714285715, 0.0]\n",
      "average MPC raise per instance: 0.28661382312018635\n",
      "average total MPC raise: 0.12403123971393519, (251.27067669172934 to 282.43609022556393)\n",
      "61.65413533834586% refactors increase less than 10% MPC\n"
     ]
    }
   ],
   "source": [
    "mpc_raise_percentages = []\n",
    "for i in range(len(mpc_before)):\n",
    "    mpc_raise_percentages.append(0 if mpc_before[i] == 0 else ((mpc_after[i] - mpc_before[i]) / mpc_before[i]))\n",
    "\n",
    "print(mpc_raise_percentages)\n",
    "\n",
    "print(f\"average MPC raise per instance: {sum(mpc_raise_percentages) / len(mpc_raise_percentages)}\")\n",
    "print(f\"average total MPC raise: {(sum(mpc_after) - sum(mpc_before)) / sum(mpc_before)}, ({sum(mpc_before) / len(mpc_before)} to {sum(mpc_after) / len(mpc_after)})\")\n",
    "print(f\"{len([1 for i in mpc_raise_percentages if i < 0.1]) / len(mpc_raise_percentages) * 100}% refactors increase less than 10% MPC\")"
   ]
  },
  {
   "cell_type": "code",
   "execution_count": 22,
   "metadata": {},
   "outputs": [
    {
     "name": "stderr",
     "output_type": "stream",
     "text": [
      "100%|██████████| 133/133 [01:33<00:00,  1.43it/s]\n",
      "100%|██████████| 133/133 [01:32<00:00,  1.44it/s]"
     ]
    },
    {
     "name": "stdout",
     "output_type": "stream",
     "text": [
      "average LCOM before refactoring: 822.4887218045113\n",
      "average LCOM after refactoring: 447.14027149321265\n",
      "average MPC raise per instance: 0.10088565509627631\n",
      "average total MPC raise: 0.050719650498219575\n",
      "77.44360902255639% refactors increase less than 10% MPC\n"
     ]
    },
    {
     "name": "stderr",
     "output_type": "stream",
     "text": [
      "\n"
     ]
    }
   ],
   "source": [
    "from baseline1 import Baseline1\n",
    "\n",
    "\n",
    "LCOMs_origin = []\n",
    "for c in tqdm(good_classes):\n",
    "    cluster = ClusterSeparate(c, model_name=all_mpnet_base_v2_model_name, cache_path=cache_path0)\n",
    "    LCOMs_origin += cluster.get_LCOMs()\n",
    "\n",
    "LCOMs_after_b1 = []\n",
    "mpc_before_b1 = []\n",
    "mpc_after_b1 = []\n",
    "for c in tqdm(good_classes):\n",
    "    baseline1 = Baseline1(c)\n",
    "    baseline1.original_graph_to_chain()\n",
    "    baseline1.original_chain_to_groups()\n",
    "    baseline1.handel_fields()\n",
    "    baseline1.sort_group_by_position()\n",
    "    LCOMs_after_b1.append(baseline1.get_group_LCOMs())\n",
    "    mpcs = baseline1.get_MPC()\n",
    "    mpc_before_b1.append(mpcs[0])\n",
    "    mpc_after_b1.append(sum(mpcs))\n",
    "\n",
    "print(f\"average LCOM before refactoring: {sum(LCOMs_origin) / len(LCOMs_origin)}\")\n",
    "print(f\"average LCOM after refactoring: {sum([sum(new_LCOMs) for new_LCOMs in LCOMs_after_b1]) / sum([len(new_LCOMs) for new_LCOMs in LCOMs_after_b1])}\")\n",
    "\n",
    "mpc_raise_percentages_b1 = []\n",
    "for i in range(len(mpc_before_b1)):\n",
    "    mpc_raise_percentages_b1.append(0 if mpc_before_b1[i] == 0 else ((mpc_after_b1[i] - mpc_before_b1[i]) / mpc_before_b1[i]))\n",
    "\n",
    "print(f\"average MPC raise per instance: {sum(mpc_raise_percentages_b1) / len(mpc_raise_percentages_b1)}\")\n",
    "print(f\"average total MPC raise: {(sum(mpc_after_b1) - sum(mpc_before_b1)) / sum(mpc_before_b1)}\")\n",
    "print(f\"{len([1 for i in mpc_raise_percentages_b1 if i < 0.1]) / len(mpc_raise_percentages_b1) * 100}% refactors increase less than 10% MPC\")\n"
   ]
  },
  {
   "cell_type": "code",
   "execution_count": 3,
   "metadata": {},
   "outputs": [
    {
     "name": "stderr",
     "output_type": "stream",
     "text": [
      "100%|██████████| 133/133 [01:43<00:00,  1.29it/s]\n",
      "100%|██████████| 133/133 [06:43<00:00,  3.03s/it] "
     ]
    },
    {
     "name": "stdout",
     "output_type": "stream",
     "text": [
      "average LCOM before refactoring: 822.4887218045113\n",
      "average LCOM after refactoring: 65.71177149451817\n",
      "average MPC raise per instance: 0.3566791312899852\n",
      "average total MPC raise: 0.18054229680617662\n",
      "36.84210526315789% refactors increase less than 10% MPC\n"
     ]
    },
    {
     "name": "stderr",
     "output_type": "stream",
     "text": [
      "\n"
     ]
    }
   ],
   "source": [
    "from baseline2 import Baseline2\n",
    "\n",
    "\n",
    "LCOMs_origin = []\n",
    "for c in tqdm(good_classes):\n",
    "    cluster = ClusterSeparate(c, model_name=all_mpnet_base_v2_model_name, cache_path=cache_path0)\n",
    "    LCOMs_origin += cluster.get_LCOMs()\n",
    "\n",
    "LCOMs_after_b2 = []\n",
    "mpc_before_b2 = []\n",
    "mpc_after_b2 = []\n",
    "for c in tqdm(good_classes):\n",
    "    baseline2 = Baseline2(c)\n",
    "    baseline2.greedy_merge_classes()\n",
    "    baseline2.get_max_beta_group()\n",
    "    LCOMs_after_b2.append(baseline2.get_group_LCOMs())\n",
    "    mpcs = baseline2.get_MPC()\n",
    "    mpc_before_b2.append(mpcs[0])\n",
    "    mpc_after_b2.append(sum(mpcs))\n",
    "\n",
    "print(f\"average LCOM before refactoring: {sum(LCOMs_origin) / len(LCOMs_origin)}\")\n",
    "print(f\"average LCOM after refactoring: {sum([sum(new_LCOMs) for new_LCOMs in LCOMs_after_b2]) / sum([len(new_LCOMs) for new_LCOMs in LCOMs_after_b2])}\")\n",
    "\n",
    "mpc_raise_percentages_b2 = []\n",
    "for i in range(len(mpc_before_b2)):\n",
    "    mpc_raise_percentages_b2.append(0 if mpc_before_b2[i] == 0 else ((mpc_after_b2[i] - mpc_before_b2[i]) / mpc_before_b2[i]))\n",
    "\n",
    "print(f\"average MPC raise per instance: {sum(mpc_raise_percentages_b2) / len(mpc_raise_percentages_b2)}\")\n",
    "print(f\"average total MPC raise: {(sum(mpc_after_b2) - sum(mpc_before_b2)) / sum(mpc_before_b2)}\")\n",
    "print(f\"{len([1 for i in mpc_raise_percentages_b2 if i < 0.1]) / len(mpc_raise_percentages_b2) * 100}% refactors increase less than 10% MPC\")\n"
   ]
  },
  {
   "cell_type": "code",
   "execution_count": 4,
   "metadata": {},
   "outputs": [
    {
     "name": "stderr",
     "output_type": "stream",
     "text": [
      "100%|██████████| 133/133 [01:42<00:00,  1.29it/s]"
     ]
    },
    {
     "name": "stdout",
     "output_type": "stream",
     "text": [
      "average LCOM before refactoring: 822.4887218045113\n",
      "average LCOM after refactoring: 92.36585365853658\n",
      "average MPC raise per instance: 0.4186674583381518\n",
      "average total MPC raise: 0.11610161883958227\n",
      "42.857142857142854% refactors increase less than 10% MPC\n"
     ]
    },
    {
     "name": "stderr",
     "output_type": "stream",
     "text": [
      "\n"
     ]
    }
   ],
   "source": [
    "from baseline3 import Baseline3\n",
    "\n",
    "\n",
    "# LCOMs_origin = []\n",
    "# for c in tqdm(good_classes):\n",
    "#     cluster = ClusterSeparate(c, model_name=all_mpnet_base_v2_model_name, cache_path=cache_path0)\n",
    "#     LCOMs_origin += cluster.get_LCOMs()\n",
    "\n",
    "LCOMs_after_b3 = []\n",
    "mpc_before_b3 = []\n",
    "mpc_after_b3 = []\n",
    "for c in tqdm(good_classes):\n",
    "    baseline3 = Baseline3(c)\n",
    "    baseline3.original_graph_to_chain(t=0.36)\n",
    "    baseline3.original_chain_to_groups()\n",
    "    LCOMs_after_b3.append(baseline3.get_group_LCOMs())\n",
    "    mpcs = baseline3.get_MPC()\n",
    "    mpc_before_b3.append(mpcs[0])\n",
    "    mpc_after_b3.append(sum(mpcs))\n",
    "\n",
    "print(f\"average LCOM before refactoring: {sum(LCOMs_origin) / len(LCOMs_origin)}\")\n",
    "print(f\"average LCOM after refactoring: {sum([sum(new_LCOMs) for new_LCOMs in LCOMs_after_b3]) / sum([len(new_LCOMs) for new_LCOMs in LCOMs_after_b3])}\")\n",
    "\n",
    "mpc_raise_percentages_b3 = []\n",
    "for i in range(len(mpc_before_b3)):\n",
    "    mpc_raise_percentages_b3.append(0 if mpc_before_b3[i] == 0 else ((mpc_after_b3[i] - mpc_before_b3[i]) / mpc_before_b3[i]))\n",
    "\n",
    "print(f\"average MPC raise per instance: {sum(mpc_raise_percentages_b3) / len(mpc_raise_percentages_b3)}\")\n",
    "print(f\"average total MPC raise: {(sum(mpc_after_b3) - sum(mpc_before_b3)) / sum(mpc_before_b3)}\")\n",
    "print(f\"{len([1 for i in mpc_raise_percentages_b3 if i < 0.1]) / len(mpc_raise_percentages_b3) * 100}% refactors increase less than 10% MPC\")\n"
   ]
  }
 ],
 "metadata": {
  "kernelspec": {
   "display_name": ".venv",
   "language": "python",
   "name": "python3"
  },
  "language_info": {
   "codemirror_mode": {
    "name": "ipython",
    "version": 3
   },
   "file_extension": ".py",
   "mimetype": "text/x-python",
   "name": "python",
   "nbconvert_exporter": "python",
   "pygments_lexer": "ipython3",
   "version": "3.11.9"
  }
 },
 "nbformat": 4,
 "nbformat_minor": 2
}
